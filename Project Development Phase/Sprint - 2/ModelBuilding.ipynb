{
 "cells": [
  {
   "cell_type": "code",
   "execution_count": 2,
   "id": "7032e115",
   "metadata": {},
   "outputs": [
    {
     "name": "stdout",
     "output_type": "stream",
     "text": [
      "Requirement already satisfied: tensorflow in c:\\users\\surya\\appdata\\local\\programs\\python\\python310\\lib\\site-packages (2.10.0)\n",
      "Requirement already satisfied: opt-einsum>=2.3.2 in c:\\users\\surya\\appdata\\local\\programs\\python\\python310\\lib\\site-packages (from tensorflow) (3.3.0)\n",
      "Requirement already satisfied: google-pasta>=0.1.1 in c:\\users\\surya\\appdata\\local\\programs\\python\\python310\\lib\\site-packages (from tensorflow) (0.2.0)\n",
      "Requirement already satisfied: grpcio<2.0,>=1.24.3 in c:\\users\\surya\\appdata\\local\\programs\\python\\python310\\lib\\site-packages (from tensorflow) (1.50.0)\n",
      "Requirement already satisfied: protobuf<3.20,>=3.9.2 in c:\\users\\surya\\appdata\\local\\programs\\python\\python310\\lib\\site-packages (from tensorflow) (3.19.6)\n",
      "Requirement already satisfied: packaging in c:\\users\\surya\\appdata\\local\\programs\\python\\python310\\lib\\site-packages (from tensorflow) (21.3)\n",
      "Requirement already satisfied: six>=1.12.0 in c:\\users\\surya\\appdata\\local\\programs\\python\\python310\\lib\\site-packages (from tensorflow) (1.16.0)\n",
      "Requirement already satisfied: astunparse>=1.6.0 in c:\\users\\surya\\appdata\\local\\programs\\python\\python310\\lib\\site-packages (from tensorflow) (1.6.3)\n",
      "Requirement already satisfied: tensorflow-io-gcs-filesystem>=0.23.1 in c:\\users\\surya\\appdata\\local\\programs\\python\\python310\\lib\\site-packages (from tensorflow) (0.27.0)\n",
      "Requirement already satisfied: numpy>=1.20 in c:\\users\\surya\\appdata\\local\\programs\\python\\python310\\lib\\site-packages (from tensorflow) (1.23.4)\n",
      "Requirement already satisfied: keras<2.11,>=2.10.0 in c:\\users\\surya\\appdata\\local\\programs\\python\\python310\\lib\\site-packages (from tensorflow) (2.10.0)\n",
      "Requirement already satisfied: typing-extensions>=3.6.6 in c:\\users\\surya\\appdata\\local\\programs\\python\\python310\\lib\\site-packages (from tensorflow) (4.4.0)\n",
      "Requirement already satisfied: tensorboard<2.11,>=2.10 in c:\\users\\surya\\appdata\\local\\programs\\python\\python310\\lib\\site-packages (from tensorflow) (2.10.1)\n",
      "Requirement already satisfied: libclang>=13.0.0 in c:\\users\\surya\\appdata\\local\\programs\\python\\python310\\lib\\site-packages (from tensorflow) (14.0.6)\n",
      "Requirement already satisfied: h5py>=2.9.0 in c:\\users\\surya\\appdata\\local\\programs\\python\\python310\\lib\\site-packages (from tensorflow) (3.7.0)\n",
      "Requirement already satisfied: keras-preprocessing>=1.1.1 in c:\\users\\surya\\appdata\\local\\programs\\python\\python310\\lib\\site-packages (from tensorflow) (1.1.2)\n",
      "Requirement already satisfied: flatbuffers>=2.0 in c:\\users\\surya\\appdata\\local\\programs\\python\\python310\\lib\\site-packages (from tensorflow) (22.10.26)\n",
      "Requirement already satisfied: setuptools in c:\\users\\surya\\appdata\\local\\programs\\python\\python310\\lib\\site-packages (from tensorflow) (58.1.0)\n",
      "Requirement already satisfied: wrapt>=1.11.0 in c:\\users\\surya\\appdata\\local\\programs\\python\\python310\\lib\\site-packages (from tensorflow) (1.14.1)\n",
      "Requirement already satisfied: tensorflow-estimator<2.11,>=2.10.0 in c:\\users\\surya\\appdata\\local\\programs\\python\\python310\\lib\\site-packages (from tensorflow) (2.10.0)\n",
      "Requirement already satisfied: gast<=0.4.0,>=0.2.1 in c:\\users\\surya\\appdata\\local\\programs\\python\\python310\\lib\\site-packages (from tensorflow) (0.4.0)\n",
      "Requirement already satisfied: absl-py>=1.0.0 in c:\\users\\surya\\appdata\\local\\programs\\python\\python310\\lib\\site-packages (from tensorflow) (1.3.0)\n",
      "Requirement already satisfied: termcolor>=1.1.0 in c:\\users\\surya\\appdata\\local\\programs\\python\\python310\\lib\\site-packages (from tensorflow) (2.1.0)\n",
      "Requirement already satisfied: wheel<1.0,>=0.23.0 in c:\\users\\surya\\appdata\\local\\programs\\python\\python310\\lib\\site-packages (from astunparse>=1.6.0->tensorflow) (0.38.3)\n",
      "Requirement already satisfied: markdown>=2.6.8 in c:\\users\\surya\\appdata\\local\\programs\\python\\python310\\lib\\site-packages (from tensorboard<2.11,>=2.10->tensorflow) (3.4.1)\n",
      "Requirement already satisfied: google-auth-oauthlib<0.5,>=0.4.1 in c:\\users\\surya\\appdata\\local\\programs\\python\\python310\\lib\\site-packages (from tensorboard<2.11,>=2.10->tensorflow) (0.4.6)\n",
      "Requirement already satisfied: tensorboard-plugin-wit>=1.6.0 in c:\\users\\surya\\appdata\\local\\programs\\python\\python310\\lib\\site-packages (from tensorboard<2.11,>=2.10->tensorflow) (1.8.1)\n",
      "Requirement already satisfied: werkzeug>=1.0.1 in c:\\users\\surya\\appdata\\local\\programs\\python\\python310\\lib\\site-packages (from tensorboard<2.11,>=2.10->tensorflow) (2.2.2)\n",
      "Requirement already satisfied: requests<3,>=2.21.0 in c:\\users\\surya\\appdata\\local\\programs\\python\\python310\\lib\\site-packages (from tensorboard<2.11,>=2.10->tensorflow) (2.28.1)\n",
      "Requirement already satisfied: tensorboard-data-server<0.7.0,>=0.6.0 in c:\\users\\surya\\appdata\\local\\programs\\python\\python310\\lib\\site-packages (from tensorboard<2.11,>=2.10->tensorflow) (0.6.1)\n",
      "Requirement already satisfied: google-auth<3,>=1.6.3 in c:\\users\\surya\\appdata\\local\\programs\\python\\python310\\lib\\site-packages (from tensorboard<2.11,>=2.10->tensorflow) (2.14.1)\n",
      "Requirement already satisfied: pyparsing!=3.0.5,>=2.0.2 in c:\\users\\surya\\appdata\\local\\programs\\python\\python310\\lib\\site-packages (from packaging->tensorflow) (3.0.9)\n",
      "Requirement already satisfied: pyasn1-modules>=0.2.1 in c:\\users\\surya\\appdata\\local\\programs\\python\\python310\\lib\\site-packages (from google-auth<3,>=1.6.3->tensorboard<2.11,>=2.10->tensorflow) (0.2.8)\n",
      "Requirement already satisfied: rsa<5,>=3.1.4 in c:\\users\\surya\\appdata\\local\\programs\\python\\python310\\lib\\site-packages (from google-auth<3,>=1.6.3->tensorboard<2.11,>=2.10->tensorflow) (4.9)\n",
      "Requirement already satisfied: cachetools<6.0,>=2.0.0 in c:\\users\\surya\\appdata\\local\\programs\\python\\python310\\lib\\site-packages (from google-auth<3,>=1.6.3->tensorboard<2.11,>=2.10->tensorflow) (5.2.0)\n",
      "Requirement already satisfied: requests-oauthlib>=0.7.0 in c:\\users\\surya\\appdata\\local\\programs\\python\\python310\\lib\\site-packages (from google-auth-oauthlib<0.5,>=0.4.1->tensorboard<2.11,>=2.10->tensorflow) (1.3.1)\n",
      "Requirement already satisfied: charset-normalizer<3,>=2 in c:\\users\\surya\\appdata\\local\\programs\\python\\python310\\lib\\site-packages (from requests<3,>=2.21.0->tensorboard<2.11,>=2.10->tensorflow) (2.1.1)\n",
      "Requirement already satisfied: certifi>=2017.4.17 in c:\\users\\surya\\appdata\\local\\programs\\python\\python310\\lib\\site-packages (from requests<3,>=2.21.0->tensorboard<2.11,>=2.10->tensorflow) (2022.9.24)\n",
      "Requirement already satisfied: idna<4,>=2.5 in c:\\users\\surya\\appdata\\local\\programs\\python\\python310\\lib\\site-packages (from requests<3,>=2.21.0->tensorboard<2.11,>=2.10->tensorflow) (3.4)\n",
      "Requirement already satisfied: urllib3<1.27,>=1.21.1 in c:\\users\\surya\\appdata\\local\\programs\\python\\python310\\lib\\site-packages (from requests<3,>=2.21.0->tensorboard<2.11,>=2.10->tensorflow) (1.26.12)\n",
      "Requirement already satisfied: MarkupSafe>=2.1.1 in c:\\users\\surya\\appdata\\local\\programs\\python\\python310\\lib\\site-packages (from werkzeug>=1.0.1->tensorboard<2.11,>=2.10->tensorflow) (2.1.1)\n",
      "Requirement already satisfied: pyasn1<0.5.0,>=0.4.6 in c:\\users\\surya\\appdata\\local\\programs\\python\\python310\\lib\\site-packages (from pyasn1-modules>=0.2.1->google-auth<3,>=1.6.3->tensorboard<2.11,>=2.10->tensorflow) (0.4.8)\n",
      "Requirement already satisfied: oauthlib>=3.0.0 in c:\\users\\surya\\appdata\\local\\programs\\python\\python310\\lib\\site-packages (from requests-oauthlib>=0.7.0->google-auth-oauthlib<0.5,>=0.4.1->tensorboard<2.11,>=2.10->tensorflow) (3.2.2)\n"
     ]
    },
    {
     "name": "stderr",
     "output_type": "stream",
     "text": [
      "WARNING: You are using pip version 22.0.4; however, version 22.3.1 is available.\n",
      "You should consider upgrading via the 'C:\\Users\\Surya\\AppData\\Local\\Programs\\Python\\Python310\\python.exe -m pip install --upgrade pip' command.\n"
     ]
    },
    {
     "name": "stdout",
     "output_type": "stream",
     "text": [
      "Requirement already satisfied: keras in c:\\users\\surya\\appdata\\local\\programs\\python\\python310\\lib\\site-packages (2.10.0)\n"
     ]
    },
    {
     "name": "stderr",
     "output_type": "stream",
     "text": [
      "WARNING: You are using pip version 22.0.4; however, version 22.3.1 is available.\n",
      "You should consider upgrading via the 'C:\\Users\\Surya\\AppData\\Local\\Programs\\Python\\Python310\\python.exe -m pip install --upgrade pip' command.\n"
     ]
    }
   ],
   "source": [
    "!pip install tensorflow\n",
    "!pip install keras"
   ]
  },
  {
   "cell_type": "code",
   "execution_count": 3,
   "id": "c3a2902e",
   "metadata": {},
   "outputs": [],
   "source": [
    "#import keras libraries\n",
    "from keras.models import Sequential\n",
    "from keras.layers import Dense\n",
    "from keras.layers import Convolution2D\n",
    "from keras.layers import MaxPooling2D\n",
    "from keras.layers import Flatten"
   ]
  },
  {
   "cell_type": "code",
   "execution_count": 4,
   "id": "3b92e0a8",
   "metadata": {},
   "outputs": [],
   "source": [
    "#image preprocessing(or) image augmentation\n",
    "from keras.preprocessing.image import ImageDataGenerator"
   ]
  },
  {
   "cell_type": "code",
   "execution_count": 7,
   "id": "79bfa947",
   "metadata": {},
   "outputs": [],
   "source": [
    "train_datagen = ImageDataGenerator(rescale =1./255, shear_range = 0.2, zoom_range = 0.2, horizontal_flip=True, vertical_flip = True)"
   ]
  },
  {
   "cell_type": "code",
   "execution_count": 5,
   "id": "b140b9cf",
   "metadata": {},
   "outputs": [],
   "source": [
    "test_datagen = ImageDataGenerator(rescale=1./255)"
   ]
  },
  {
   "cell_type": "code",
   "execution_count": 8,
   "id": "e969e9da",
   "metadata": {},
   "outputs": [
    {
     "name": "stdout",
     "output_type": "stream",
     "text": [
      "Found 4118 images belonging to 5 classes.\n"
     ]
    }
   ],
   "source": [
    "x_train = train_datagen.flow_from_directory(\"D:\\CONTENT\\Dataset\\TRAIN_SET\",target_size=(64,64),batch_size=32,class_mode=\"binary\")"
   ]
  },
  {
   "cell_type": "code",
   "execution_count": 10,
   "id": "5e759969",
   "metadata": {},
   "outputs": [
    {
     "name": "stdout",
     "output_type": "stream",
     "text": [
      "Found 4118 images belonging to 5 classes.\n"
     ]
    }
   ],
   "source": [
    "x_test = test_datagen.flow_from_directory(\"D:\\CONTENT\\Dataset\\TRAIN_SET\",target_size=(64,64),batch_size=32,class_mode=\"binary\")"
   ]
  },
  {
   "cell_type": "code",
   "execution_count": 11,
   "id": "78ceabad",
   "metadata": {},
   "outputs": [
    {
     "data": {
      "text/plain": [
       "{'APPLES': 0, 'BANANA': 1, 'ORANGE': 2, 'PINEAPPLE': 3, 'WATERMELON': 4}"
      ]
     },
     "execution_count": 11,
     "metadata": {},
     "output_type": "execute_result"
    }
   ],
   "source": [
    "x_train.class_indices"
   ]
  },
  {
   "cell_type": "code",
   "execution_count": 12,
   "id": "68bf8dae",
   "metadata": {},
   "outputs": [
    {
     "name": "stdout",
     "output_type": "stream",
     "text": [
      "{'APPLES': 0, 'BANANA': 1, 'ORANGE': 2, 'PINEAPPLE': 3, 'WATERMELON': 4}\n"
     ]
    }
   ],
   "source": [
    "#checking the number of classes\n",
    "print(x_test.class_indices)"
   ]
  },
  {
   "cell_type": "code",
   "execution_count": 13,
   "id": "55f05795",
   "metadata": {},
   "outputs": [
    {
     "data": {
      "text/plain": [
       "Counter({0: 995, 1: 1354, 2: 1019, 3: 275, 4: 475})"
      ]
     },
     "execution_count": 13,
     "metadata": {},
     "output_type": "execute_result"
    }
   ],
   "source": [
    "from collections import Counter as c\n",
    "c(x_train .labels)"
   ]
  },
  {
   "cell_type": "code",
   "execution_count": 14,
   "id": "7d0ef68c",
   "metadata": {},
   "outputs": [],
   "source": [
    "#Initializing the model\n",
    "model = Sequential()"
   ]
  },
  {
   "cell_type": "code",
   "execution_count": 15,
   "id": "72c60ee0",
   "metadata": {},
   "outputs": [],
   "source": [
    "# add First convolution layer"
   ]
  },
  {
   "cell_type": "code",
   "execution_count": 16,
   "id": "0e18768e",
   "metadata": {},
   "outputs": [],
   "source": [
    "model.add(Convolution2D(32,(3,3),input_shape=(64,64,3),activation=\"relu\"))\n",
    "# 32 indicates => no of feature detectors\n",
    "#(3,3)=> kernel size (feature detector size)"
   ]
  },
  {
   "cell_type": "code",
   "execution_count": 17,
   "id": "f3e8d35a",
   "metadata": {},
   "outputs": [],
   "source": [
    "# add Maxpooling layer"
   ]
  },
  {
   "cell_type": "code",
   "execution_count": 18,
   "id": "7407378e",
   "metadata": {},
   "outputs": [],
   "source": [
    "model.add(MaxPooling2D(pool_size=(2,2)))"
   ]
  },
  {
   "cell_type": "code",
   "execution_count": 19,
   "id": "26030801",
   "metadata": {},
   "outputs": [],
   "source": [
    "#Flattening the layers\n",
    "model.add(Flatten())"
   ]
  },
  {
   "cell_type": "code",
   "execution_count": 20,
   "id": "6b4e0322",
   "metadata": {},
   "outputs": [],
   "source": [
    "model.add(Dense(units=128,activation='relu'))"
   ]
  },
  {
   "cell_type": "code",
   "execution_count": 21,
   "id": "514345c8",
   "metadata": {},
   "outputs": [],
   "source": [
    "model.add(Dense(units=5,activation='softmax'))"
   ]
  },
  {
   "cell_type": "code",
   "execution_count": 22,
   "id": "7248c1ff",
   "metadata": {},
   "outputs": [],
   "source": [
    "# add flatten layer => input to your ANN"
   ]
  },
  {
   "cell_type": "code",
   "execution_count": 23,
   "id": "44a8ad7c",
   "metadata": {},
   "outputs": [
    {
     "name": "stdout",
     "output_type": "stream",
     "text": [
      "Model: \"sequential\"\n",
      "_________________________________________________________________\n",
      " Layer (type)                Output Shape              Param #   \n",
      "=================================================================\n",
      " conv2d (Conv2D)             (None, 62, 62, 32)        896       \n",
      "                                                                 \n",
      " max_pooling2d (MaxPooling2D  (None, 31, 31, 32)       0         \n",
      " )                                                               \n",
      "                                                                 \n",
      " flatten (Flatten)           (None, 30752)             0         \n",
      "                                                                 \n",
      " dense (Dense)               (None, 128)               3936384   \n",
      "                                                                 \n",
      " dense_1 (Dense)             (None, 5)                 645       \n",
      "                                                                 \n",
      "=================================================================\n",
      "Total params: 3,937,925\n",
      "Trainable params: 3,937,925\n",
      "Non-trainable params: 0\n",
      "_________________________________________________________________\n"
     ]
    }
   ],
   "source": [
    "model.summary()"
   ]
  },
  {
   "cell_type": "code",
   "execution_count": 24,
   "id": "2ebba4ff",
   "metadata": {},
   "outputs": [],
   "source": [
    "#hidden layer"
   ]
  },
  {
   "cell_type": "code",
   "execution_count": 25,
   "id": "24774419",
   "metadata": {},
   "outputs": [],
   "source": [
    "model.add(Dense(units=300,kernel_initializer=\"random_uniform\",activation=\"relu\"))\n",
    "model.add(Dense(units=200,kernel_initializer=\"random_uniform\",activation=\"relu\"))"
   ]
  },
  {
   "cell_type": "code",
   "execution_count": 26,
   "id": "fd80b8cd",
   "metadata": {},
   "outputs": [],
   "source": [
    "#output layer"
   ]
  },
  {
   "cell_type": "code",
   "execution_count": 27,
   "id": "7bade47a",
   "metadata": {},
   "outputs": [
    {
     "data": {
      "text/plain": [
       "129"
      ]
     },
     "execution_count": 27,
     "metadata": {},
     "output_type": "execute_result"
    }
   ],
   "source": [
    "model.add(Dense(units=4,kernel_initializer=\"random_uniform\",activation=\"softmax\"))\n",
    "len(x_train)"
   ]
  },
  {
   "cell_type": "code",
   "execution_count": 28,
   "id": "68e1ab08",
   "metadata": {},
   "outputs": [],
   "source": [
    "#Ann starts so need to add dense layers"
   ]
  },
  {
   "cell_type": "code",
   "execution_count": 29,
   "id": "473a4bd2",
   "metadata": {},
   "outputs": [],
   "source": [
    "model.add(Dense(units=128,activation=\"relu\",kernel_initializer=\"random_uniform\"))"
   ]
  },
  {
   "cell_type": "code",
   "execution_count": 30,
   "id": "26be2546",
   "metadata": {},
   "outputs": [],
   "source": [
    "model.add(Dense(units=1,activation=\"sigmoid\",kernel_initializer=\"random_uniform\"))"
   ]
  },
  {
   "cell_type": "code",
   "execution_count": 31,
   "id": "d5ace401",
   "metadata": {},
   "outputs": [],
   "source": [
    "#Compile the model\n",
    "model.compile(loss=\"binary_crossentropy\",optimizer=\"adam\",metrics=['accuracy'])"
   ]
  },
  {
   "cell_type": "code",
   "execution_count": 32,
   "id": "ced5daa9",
   "metadata": {},
   "outputs": [],
   "source": [
    "#Train the model"
   ]
  },
  {
   "cell_type": "code",
   "execution_count": 33,
   "id": "b28fdcd8",
   "metadata": {},
   "outputs": [
    {
     "name": "stderr",
     "output_type": "stream",
     "text": [
      "C:\\Users\\Surya\\AppData\\Local\\Temp\\ipykernel_5268\\2282505131.py:1: UserWarning: `Model.fit_generator` is deprecated and will be removed in a future version. Please use `Model.fit`, which supports generators.\n",
      "  model.fit_generator(x_train,steps_per_epoch=len(x_train), validation_data=x_test, validation_steps=len(x_test), epochs= 20)\n"
     ]
    },
    {
     "name": "stdout",
     "output_type": "stream",
     "text": [
      "Epoch 1/20\n",
      "129/129 [==============================] - 200s 1s/step - loss: -0.2092 - accuracy: 0.3295 - val_loss: -1.6606 - val_accuracy: 0.3288\n",
      "Epoch 2/20\n",
      "129/129 [==============================] - 63s 485ms/step - loss: -3.8268 - accuracy: 0.3288 - val_loss: -6.7749 - val_accuracy: 0.3288\n",
      "Epoch 3/20\n",
      "129/129 [==============================] - 54s 421ms/step - loss: -10.9932 - accuracy: 0.3288 - val_loss: -16.0474 - val_accuracy: 0.3288\n",
      "Epoch 4/20\n",
      "129/129 [==============================] - 53s 410ms/step - loss: -22.4316 - accuracy: 0.3288 - val_loss: -29.7018 - val_accuracy: 0.3288\n",
      "Epoch 5/20\n",
      "129/129 [==============================] - 53s 412ms/step - loss: -37.9798 - accuracy: 0.3288 - val_loss: -47.1726 - val_accuracy: 0.3288\n",
      "Epoch 6/20\n",
      "129/129 [==============================] - 53s 413ms/step - loss: -57.3116 - accuracy: 0.3288 - val_loss: -68.3442 - val_accuracy: 0.3288\n",
      "Epoch 7/20\n",
      "129/129 [==============================] - 54s 418ms/step - loss: -80.1885 - accuracy: 0.3288 - val_loss: -92.9677 - val_accuracy: 0.3288\n",
      "Epoch 8/20\n",
      "129/129 [==============================] - 53s 411ms/step - loss: -106.5269 - accuracy: 0.3288 - val_loss: -120.4035 - val_accuracy: 0.3288\n",
      "Epoch 9/20\n",
      "129/129 [==============================] - 53s 409ms/step - loss: -136.0229 - accuracy: 0.3288 - val_loss: -152.2850 - val_accuracy: 0.3288\n",
      "Epoch 10/20\n",
      "129/129 [==============================] - 53s 410ms/step - loss: -168.6617 - accuracy: 0.3288 - val_loss: -185.8215 - val_accuracy: 0.3288\n",
      "Epoch 11/20\n",
      "129/129 [==============================] - 53s 410ms/step - loss: -204.2828 - accuracy: 0.3288 - val_loss: -223.8558 - val_accuracy: 0.3288\n",
      "Epoch 12/20\n",
      "129/129 [==============================] - 55s 424ms/step - loss: -243.1774 - accuracy: 0.3288 - val_loss: -263.4435 - val_accuracy: 0.3288\n",
      "Epoch 13/20\n",
      "129/129 [==============================] - 53s 414ms/step - loss: -284.6669 - accuracy: 0.3288 - val_loss: -306.7545 - val_accuracy: 0.3288\n",
      "Epoch 14/20\n",
      "129/129 [==============================] - 53s 412ms/step - loss: -329.0748 - accuracy: 0.3288 - val_loss: -352.0972 - val_accuracy: 0.3288\n",
      "Epoch 15/20\n",
      "129/129 [==============================] - 53s 410ms/step - loss: -376.1333 - accuracy: 0.3288 - val_loss: -400.8530 - val_accuracy: 0.3288\n",
      "Epoch 16/20\n",
      "129/129 [==============================] - 54s 416ms/step - loss: -425.7101 - accuracy: 0.3288 - val_loss: -451.5232 - val_accuracy: 0.3288\n",
      "Epoch 17/20\n",
      "129/129 [==============================] - 53s 415ms/step - loss: -477.8172 - accuracy: 0.3288 - val_loss: -504.6777 - val_accuracy: 0.3288\n",
      "Epoch 18/20\n",
      "129/129 [==============================] - 53s 413ms/step - loss: -532.2448 - accuracy: 0.3288 - val_loss: -560.8771 - val_accuracy: 0.3288\n",
      "Epoch 19/20\n",
      "129/129 [==============================] - 53s 413ms/step - loss: -588.9110 - accuracy: 0.3288 - val_loss: -618.1980 - val_accuracy: 0.3288\n",
      "Epoch 20/20\n",
      "129/129 [==============================] - 53s 411ms/step - loss: -647.9694 - accuracy: 0.3288 - val_loss: -678.5664 - val_accuracy: 0.3288\n"
     ]
    },
    {
     "data": {
      "text/plain": [
       "<keras.callbacks.History at 0x1e9fa988d00>"
      ]
     },
     "execution_count": 33,
     "metadata": {},
     "output_type": "execute_result"
    }
   ],
   "source": [
    "model.fit_generator(x_train,steps_per_epoch=len(x_train), validation_data=x_test, validation_steps=len(x_test), epochs= 20)"
   ]
  },
  {
   "cell_type": "code",
   "execution_count": 35,
   "id": "0a070bdc",
   "metadata": {},
   "outputs": [],
   "source": [
    "model.save(\"nutrition.h5\")"
   ]
  },
  {
   "cell_type": "code",
   "execution_count": 34,
   "id": "fda057a5",
   "metadata": {},
   "outputs": [],
   "source": [
    "#Prediction the result"
   ]
  },
  {
   "cell_type": "code",
   "execution_count": 36,
   "id": "c5abf95d",
   "metadata": {},
   "outputs": [],
   "source": [
    "from tensorflow.keras.models import load_model\n",
    "from keras.preprocessing  import image\n",
    "model =load_model(\"nutrition.h5\")"
   ]
  },
  {
   "cell_type": "code",
   "execution_count": 37,
   "id": "664a63fb",
   "metadata": {},
   "outputs": [],
   "source": [
    "import numpy as np"
   ]
  },
  {
   "cell_type": "code",
   "execution_count": 38,
   "id": "d16c713f",
   "metadata": {},
   "outputs": [
    {
     "name": "stdout",
     "output_type": "stream",
     "text": [
      "1/1 [==============================] - 1s 703ms/step\n"
     ]
    },
    {
     "data": {
      "text/plain": [
       "array([0], dtype=int64)"
      ]
     },
     "execution_count": 38,
     "metadata": {},
     "output_type": "execute_result"
    }
   ],
   "source": [
    "from tensorflow.keras.utils import load_img\n",
    "from tensorflow.keras.utils import img_to_array\n",
    "#loading of the image\n",
    "img = load_img(r'D:\\CONTENT\\Dataset\\TRAIN_SET\\APPLES\\n07740461_2.jpg', grayscale=False,target_size=(64,64))\n",
    "#image to array \n",
    "x = img_to_array(img)\n",
    "#changing the shape\n",
    "x= np.expand_dims(x,axis = 0)\n",
    "predict_x=model.predict(x)\n",
    "classes_x=np.argmax(predict_x,axis = -1)\n",
    "classes_x"
   ]
  },
  {
   "cell_type": "code",
   "execution_count": 39,
   "id": "a540e405",
   "metadata": {},
   "outputs": [
    {
     "data": {
      "text/plain": [
       "'APPLES'"
      ]
     },
     "execution_count": 39,
     "metadata": {},
     "output_type": "execute_result"
    }
   ],
   "source": [
    "index=['APPLES', 'BANANA', 'ORANGE', 'PINEAPPLE', 'WATERMELON']\n",
    "result=str(index[classes_x[0]])\n",
    "result"
   ]
  },
  {
   "cell_type": "code",
   "execution_count": null,
   "id": "9690d918",
   "metadata": {},
   "outputs": [],
   "source": []
  }
 ],
 "metadata": {
  "kernelspec": {
   "display_name": "Python 3 (ipykernel)",
   "language": "python",
   "name": "python3"
  },
  "language_info": {
   "codemirror_mode": {
    "name": "ipython",
    "version": 3
   },
   "file_extension": ".py",
   "mimetype": "text/x-python",
   "name": "python",
   "nbconvert_exporter": "python",
   "pygments_lexer": "ipython3",
   "version": "3.10.5"
  }
 },
 "nbformat": 4,
 "nbformat_minor": 5
}
